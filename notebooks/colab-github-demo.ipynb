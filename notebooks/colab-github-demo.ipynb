{
  "cells": [
    {
      "cell_type": "markdown",
      "metadata": {
        "id": "view-in-github",
        "colab_type": "text"
      },
      "source": [
        "<a href=\"https://colab.research.google.com/github/devlucianosilva/c-digos-em-python/blob/main/notebooks/colab-github-demo.ipynb\" target=\"_parent\"><img src=\"https://colab.research.google.com/assets/colab-badge.svg\" alt=\"Open In Colab\"/></a>"
      ]
    },
    {
      "cell_type": "code",
      "source": [
        "from flask import Flask"
      ],
      "metadata": {
        "id": "bIG7R_i0lCtS"
      },
      "execution_count": 4,
      "outputs": []
    },
    {
      "cell_type": "code",
      "source": [
        "app = Flask(__name__)\n",
        "\n",
        "# criar a 1ª pagina do site\n",
        "#route - hashtagtrienamentos.com/contatos\n",
        "# função - o que voce quer exibir naquela página\n",
        "\n",
        "#colocar o site no ar\n",
        "\n",
        "\n",
        "@app.route (\"/\")\n",
        "\n",
        "def homepage():\n",
        "  return \"Esse é meu primeiro site\"\n",
        "\n",
        "@app.route(\"/contatos\")\n",
        "def contatos():\n",
        "   return \"<p> nosso contatos são</p>: <p>E-mail: lllkdkkfk@hotmail.com</P>  <p> telefone(xx)xxxx-xxxx </p>\"\n",
        "\n",
        "\n",
        "#colocar o site no ar\n",
        "if __name__ == \"__main__\":\n",
        "  app.run(debug=True)\n",
        "\n"
      ],
      "metadata": {
        "id": "A72sAefSmuYT"
      },
      "execution_count": null,
      "outputs": []
    }
  ],
  "metadata": {
    "colab": {
      "name": "colab-github-demo.ipynb",
      "provenance": [],
      "toc_visible": true,
      "include_colab_link": true
    },
    "kernelspec": {
      "display_name": "Python 3",
      "name": "python3"
    }
  },
  "nbformat": 4,
  "nbformat_minor": 0
}