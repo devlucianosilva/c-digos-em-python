{
  "cells": [
    {
      "cell_type": "markdown",
      "metadata": {
        "id": "view-in-github",
        "colab_type": "text"
      },
      "source": [
        "<a href=\"https://colab.research.google.com/github/devlucianosilva/c-digos-em-python/blob/main/Ol%C3%A1%2C_este_%C3%A9_o_Colaboratory.ipynb\" target=\"_parent\"><img src=\"https://colab.research.google.com/assets/colab-badge.svg\" alt=\"Open In Colab\"/></a>"
      ]
    },
    {
      "cell_type": "code",
      "source": [
        "\n",
        "class Pessoas:\n",
        "\n",
        "  nome = input(\"digite seu nome: \")\n",
        "  telefone = input(\"digite seu telefone: \")\n",
        "  lotacao = input(\"digite sua lotação: \")\n",
        "  matricula = input(\"digite sua matricula: \")\n",
        "  cnh = input(\"digite sua CNH: \")\n",
        "\n",
        "  def __init__ (self,nome, telefone, lotacao, matricula, cnh):\n",
        "    self.nome = nome\n",
        "    self.telefone = telefone\n",
        "    self.lotacao = lotacao\n",
        "    self.matricula = matricula\n",
        "    self.cnh = cnh\n",
        "  print(\"Nome:\", nome)\n",
        "  print(\"Lotação :\", lotacao)\n",
        "  print(\"matricula: \", matricula)\n",
        "\n"
      ],
      "metadata": {
        "colab": {
          "base_uri": "https://localhost:8080/"
        },
        "id": "AOCv8HpLxqCu",
        "outputId": "6f3d5b8c-600d-4f2f-a303-f179df6aa76a"
      },
      "execution_count": 24,
      "outputs": [
        {
          "output_type": "stream",
          "name": "stdout",
          "text": [
            "digite seu nome: Luciano\n",
            "digite seu telefone: 33012219\n",
            "digite sua lotação: Sbei\n",
            "digite sua matricula: 82045232\n",
            "digite sua CNH: 000000000\n",
            "Nome: Luciano\n",
            "Lotação : Sbei\n",
            "matricula:  82045232\n"
          ]
        }
      ]
    }
  ],
  "metadata": {
    "colab": {
      "name": "Olá, este é o Colaboratory",
      "toc_visible": true,
      "provenance": [],
      "include_colab_link": true
    },
    "kernelspec": {
      "display_name": "Python 3",
      "name": "python3"
    }
  },
  "nbformat": 4,
  "nbformat_minor": 0
}