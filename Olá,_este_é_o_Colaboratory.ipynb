{
  "cells": [
    {
      "cell_type": "markdown",
      "metadata": {
        "id": "view-in-github",
        "colab_type": "text"
      },
      "source": [
        "<a href=\"https://colab.research.google.com/github/devlucianosilva/c-digos-em-python/blob/main/Ol%C3%A1%2C_este_%C3%A9_o_Colaboratory.ipynb\" target=\"_parent\"><img src=\"https://colab.research.google.com/assets/colab-badge.svg\" alt=\"Open In Colab\"/></a>"
      ]
    },
    {
      "cell_type": "code",
      "source": [
        "class Carro:\n",
        "  def __init__(self, marca, modelo, ano):\n",
        "    self.marca = marca\n",
        "    self.modelo = modelo\n",
        "    self.ano = ano\n",
        "  \n",
        "  def exibir_carro(self):\n",
        "      print(\"Marca: \" + self.marca)\n",
        "      print(\"modelo: \" + self.modelo)\n",
        "      print(\"Ano: \" + str (self.ano))\n",
        "      print()\n",
        "            \n",
        "\n",
        "carro1 = Carro (\"fiat\", \"uno\", 2020)\n",
        "carro2 = Carro (\"volksvagem\", \"gol\", 2020)\n",
        "carro3 = Carro (\"ford\", \"focus\", 2020)\n",
        "\n",
        "carro1.exibir_carro ()\n",
        "carro2.exibir_carro()\n",
        "carro3.exibir_carro()\n"
      ],
      "metadata": {
        "colab": {
          "base_uri": "https://localhost:8080/"
        },
        "id": "idwypFqRrBug",
        "outputId": "66896f5d-1625-4335-c620-4ae315d139fe"
      },
      "execution_count": 27,
      "outputs": [
        {
          "output_type": "stream",
          "name": "stdout",
          "text": [
            "Marca: fiat\n",
            "modelo: uno\n",
            "Ano: 2020\n",
            "\n",
            "Marca: volksvagem\n",
            "modelo: gol\n",
            "Ano: 2020\n",
            "\n",
            "Marca: ford\n",
            "modelo: focus\n",
            "Ano: 2020\n",
            "\n"
          ]
        }
      ]
    }
  ],
  "metadata": {
    "colab": {
      "name": "Olá, este é o Colaboratory",
      "toc_visible": true,
      "provenance": [],
      "include_colab_link": true
    },
    "kernelspec": {
      "display_name": "Python 3",
      "name": "python3"
    }
  },
  "nbformat": 4,
  "nbformat_minor": 0
}